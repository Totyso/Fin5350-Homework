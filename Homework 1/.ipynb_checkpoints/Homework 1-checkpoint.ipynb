{
 "cells": [
  {
   "cell_type": "code",
   "execution_count": 1,
   "metadata": {},
   "outputs": [
    {
     "name": "stdout",
     "output_type": "stream",
     "text": [
      "The largest number of nuggets that I cannot get is: 43\n"
     ]
    }
   ],
   "source": [
    "def is_nugget_number(candidate, packets):\n",
    "    s = packets['s']\n",
    "    m = packets['m']\n",
    "    l = packets['l']\n",
    "    for i in range(candidate//s + 1):\n",
    "        for j in range(candidate//m + 1):\n",
    "            for k in range(candidate//l + 1):\n",
    "                if(candidate == i*s + j*m + k*l):\n",
    "                    return True\n",
    "    return False\n",
    "\n",
    "packets = {'s' : 6, 'm' : 9, 'l' : 20}\n",
    "\n",
    "# Is a given number a nugget number\n",
    "candidate = packets['s']\n",
    "\n",
    "#keep track of how many candidates in a row are nugget numbers\n",
    "count = 0\n",
    "\n",
    "\n",
    "# Loop until stopping rule met\n",
    "while count < packets['s']:\n",
    "    if is_nugget_number(candidate, packets):\n",
    "        count += 1\n",
    "    else:\n",
    "        count = 0\n",
    "        largest = candidate\n",
    "    \n",
    "    candidate += 1\n",
    "    \n",
    "print(\"The largest number of nuggets that I cannot get is: {0}\".format(largest))\n"
   ]
  },
  {
   "cell_type": "code",
   "execution_count": 2,
   "metadata": {},
   "outputs": [
    {
     "name": "stdout",
     "output_type": "stream",
     "text": [
      "\tWelcome to 'Guess The Number'!\n",
      "\tThink of a number between 1 and 100.\n",
      "\tI will try to guess it in as few attempts as possible.\n",
      "\n"
     ]
    },
    {
     "name": "stdin",
     "output_type": "stream",
     "text": [
      "Is your number: 50 Yes\n"
     ]
    },
    {
     "name": "stdout",
     "output_type": "stream",
     "text": [
      "I guessed it! The number was 50\n",
      "And it only took me 1 tries!\n",
      "\n",
      "\n",
      "\n",
      "Press the enter key to exit.\n"
     ]
    }
   ],
   "source": [
    "print(\"\\tWelcome to 'Guess The Number'!\")\n",
    "print(\"\\tThink of a number between 1 and 100.\")\n",
    "print(\"\\tI will try to guess it in as few attempts as possible.\\n\")   \n",
    "\n",
    "the_number = 50\n",
    "lower = 0\n",
    "higher = 101\n",
    "guess = str(input(\"Is your number: {}\".format(the_number)))\n",
    "tries = 1\n",
    "\n",
    "while guess not in ['Yes', 'Y', 'yes', 'y']:\n",
    "    if guess in ['H', 'Higher', 'h', 'higher']:\n",
    "        lower = the_number\n",
    "        the_number = lower + (higher - lower) // 2\n",
    "    if guess in ['L', 'Lower', 'l', 'lower']:\n",
    "        higher = the_number\n",
    "        the_number = higher - (higher - lower) // 2\n",
    "    guess = str(input(\"Is your number: {}\".format(the_number)))\n",
    "    tries += 1\n",
    "print(\"I guessed it! The number was\", the_number)\n",
    "print(\"And it only took me\", tries, \"tries!\\n\")\n",
    "print(\"\\n\\nPress the enter key to exit.\")"
   ]
  },
  {
   "cell_type": "code",
   "execution_count": null,
   "metadata": {},
   "outputs": [],
   "source": []
  }
 ],
 "metadata": {
  "kernelspec": {
   "display_name": "Python 3",
   "language": "python",
   "name": "python3"
  },
  "language_info": {
   "codemirror_mode": {
    "name": "ipython",
    "version": 3
   },
   "file_extension": ".py",
   "mimetype": "text/x-python",
   "name": "python",
   "nbconvert_exporter": "python",
   "pygments_lexer": "ipython3",
   "version": "3.6.5"
  }
 },
 "nbformat": 4,
 "nbformat_minor": 2
}
